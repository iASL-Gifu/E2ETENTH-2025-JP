{
 "cells": [
  {
   "cell_type": "markdown",
   "id": "2653e7e9",
   "metadata": {},
   "source": [
    "RGBをGrayに変える"
   ]
  },
  {
   "cell_type": "code",
   "execution_count": null,
   "id": "cd554f7a",
   "metadata": {},
   "outputs": [],
   "source": [
    "from PIL import Image\n",
    "\n",
    "# 画像の読み込み\n",
    "image = Image.open('../Austin_map_obs.png')\n",
    "\n",
    "# RGBからLへの変換\n",
    "if image.mode == 'RGBA' or image.mode == 'RGB':\n",
    "    image = image.convert('L')\n",
    "\n",
    "# 保存または表示\n",
    "image.save('output_image.png')\n",
    "# image.show()\n"
   ]
  },
  {
   "cell_type": "code",
   "execution_count": null,
   "id": "0fc2bcfe",
   "metadata": {},
   "outputs": [],
   "source": []
  }
 ],
 "metadata": {
  "kernelspec": {
   "display_name": "env",
   "language": "python",
   "name": "python3"
  },
  "language_info": {
   "codemirror_mode": {
    "name": "ipython",
    "version": 3
   },
   "file_extension": ".py",
   "mimetype": "text/x-python",
   "name": "python",
   "nbconvert_exporter": "python",
   "pygments_lexer": "ipython3",
   "version": "3.11.10"
  }
 },
 "nbformat": 4,
 "nbformat_minor": 5
}
