{
 "cells": [
  {
   "attachments": {},
   "cell_type": "markdown",
   "metadata": {},
   "source": [
    "# Sanity Check\n",
    "Sanity check the `map_converter.ipynb`. Sometimes, the centerline generated is not great, such as what you see for `Spielberg_map`. In these cases, you can increase the interpolation interval in `map_converter.ipynb`, and then clean manually.\n",
    "\n",
    "Then, you can use this book to sanity check again the points."
   ]
  },
  {
   "cell_type": "code",
   "execution_count": null,
   "metadata": {},
   "outputs": [],
   "source": [
    "import numpy as np\n",
    "import matplotlib.pyplot as plt\n",
    "import yaml\n",
    "from PIL import Image\n",
    "import os\n",
    "import pandas as pd"
   ]
  },
  {
   "cell_type": "code",
   "execution_count": null,
   "metadata": {},
   "outputs": [],
   "source": [
    "MAP_NAME = \"Austin_map\"\n",
    "# MAP_NAME = \"Spielberg_map\""
   ]
  },
  {
   "cell_type": "code",
   "execution_count": null,
   "metadata": {},
   "outputs": [],
   "source": [
    "if os.path.exists(f\"maps/{MAP_NAME}.png\"):\n",
    "    map_img_path = f\"maps/{MAP_NAME}.png\"\n",
    "elif os.path.exists(f\"maps/{MAP_NAME}.pgm\"):\n",
    "    map_img_path = f\"maps/{MAP_NAME}.pgm\"\n",
    "else:\n",
    "    raise Exception(\"Map not found!\")\n",
    "\n",
    "map_yaml_path = f\"maps/{MAP_NAME}.yaml\"\n",
    "map_img = np.array(Image.open(map_img_path).transpose(Image.FLIP_TOP_BOTTOM))\n",
    "map_img = map_img.astype(np.float64)\n",
    "\n",
    "# load map yaml\n",
    "with open(map_yaml_path, 'r') as yaml_stream:\n",
    "    try:\n",
    "        map_metadata = yaml.safe_load(yaml_stream)\n",
    "        map_resolution = map_metadata['resolution']\n",
    "        origin = map_metadata['origin']\n",
    "    except yaml.YAMLError as ex:\n",
    "        print(ex)\n",
    "\n",
    "# calculate map parameters\n",
    "orig_x = origin[0]\n",
    "orig_y = origin[1]\n",
    "# ??? Should be 0\n",
    "orig_s = np.sin(origin[2])\n",
    "orig_c = np.cos(origin[2])\n"
   ]
  },
  {
   "cell_type": "code",
   "execution_count": null,
   "metadata": {},
   "outputs": [],
   "source": [
    "raw_data = pd.read_csv(f\"maps/{MAP_NAME}.csv\")\n",
    "x = raw_data[\"# x_m\"].values\n",
    "y = raw_data[\"y_m\"].values\n",
    "wr = raw_data[\"w_tr_right_m\"].values\n",
    "wl = raw_data[\"w_tr_left_m\"].values\n",
    "\n",
    "x -= orig_x\n",
    "y -= orig_y\n",
    "\n",
    "x /= map_resolution\n",
    "y /= map_resolution"
   ]
  },
  {
   "cell_type": "code",
   "execution_count": null,
   "metadata": {},
   "outputs": [],
   "source": [
    "plt.figure(figsize=(10, 10))\n",
    "plt.imshow(map_img, cmap=\"gray\", origin=\"lower\")\n",
    "plt.plot(x,y)"
   ]
  },
  {
   "cell_type": "code",
   "execution_count": null,
   "metadata": {},
   "outputs": [],
   "source": [
    "# TODO: Add track width visualization, to make sure it's accurate"
   ]
  }
 ],
 "metadata": {
  "kernelspec": {
   "display_name": "env",
   "language": "python",
   "name": "python3"
  },
  "language_info": {
   "codemirror_mode": {
    "name": "ipython",
    "version": 3
   },
   "file_extension": ".py",
   "mimetype": "text/x-python",
   "name": "python",
   "nbconvert_exporter": "python",
   "pygments_lexer": "ipython3",
   "version": "3.11.10"
  },
  "orig_nbformat": 4
 },
 "nbformat": 4,
 "nbformat_minor": 2
}
